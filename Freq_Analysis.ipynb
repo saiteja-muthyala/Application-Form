{
 "cells": [
  {
   "cell_type": "markdown",
   "metadata": {},
   "source": [
    "Frequency Analysis of N-Grams"
   ]
  },
  {
   "cell_type": "code",
   "execution_count": null,
   "metadata": {
    "vscode": {
     "languageId": "plaintext"
    }
   },
   "outputs": [],
   "source": [
    "corpus = [\n",
    "    'Great oppurtunity. Love the Professor',\n",
    "    'Great content. Textbook was great',\n",
    "    'This course is very interesting. Great content',\n",
    "    'very interesting',\n",
    "    'Love the professor',\n",
    "    'Easy to understand'\n",
    "]\n",
    "import pandas as pd\n",
    "df = pd.DataFrame(corpus)\n",
    "df.columns = ['reviews']\n",
    "df.head(3)"
   ]
  },
  {
   "cell_type": "code",
   "execution_count": null,
   "metadata": {
    "vscode": {
     "languageId": "plaintext"
    }
   },
   "outputs": [],
   "source": [
    "from nltk.corpus import stopwords\n",
    "stoplist = stopwords.words('english') + ['though']\n",
    "from sklearn.feature_extraction.text import CountVectorizer\n",
    "c_vec = CountVectorizer(stop_words=stoplist,ngram_range=(2,3))\n",
    "\n",
    "#matrix of ngrams\n",
    "ngrams = c_vec.fit_transform(df['reviews'])\n",
    "\n",
    "# count frequency of ngrams\n",
    "count_values = ngrams.toarray().sum(axis=0)\n",
    "\n",
    "#list of ngrams\n",
    "vocab = c_vec.vocabulary_\n",
    "df_ngram = pd.DataFrame(sorted([(count_values[i],k) for k,i in vocab.items()],reverse = True)).rename(columns={0:'frequency',1:'bigram/trigram'})\n",
    "df_ngram.head(5)"
   ]
  }
 ],
 "metadata": {
  "language_info": {
   "name": "python"
  }
 },
 "nbformat": 4,
 "nbformat_minor": 2
}
