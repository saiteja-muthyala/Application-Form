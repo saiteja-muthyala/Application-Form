{
 "cells": [
  {
   "cell_type": "code",
   "execution_count": null,
   "metadata": {},
   "outputs": [],
   "source": [
    "# importing scikit learn with make_blobs\n",
    "from sklearn.datasets import make_blobs\n",
    "import matplotlib.pyplot as plt\n",
    "import numpy as np\n",
    "import pandas as pd\n",
    "from sklearn.model_selection import train_test_split\n",
    "from sklearn.metrics import confusion_matrix\n",
    "from sklearn.svm import SVC"
   ]
  },
  {
   "cell_type": "code",
   "execution_count": null,
   "metadata": {},
   "outputs": [],
   "source": [
    "# creating datasets X containing n_samples\n",
    "# Y containing two classes\n",
    "X, Y = make_blobs(n_samples=125, centers=2,random_state=0, cluster_std=0.40)\n",
    "# plotting scatters\n",
    "plt.scatter(X[:, 0], X[:, 1], c=Y, s=50, cmap='spring');\n",
    "plt.show()"
   ]
  },
  {
   "cell_type": "code",
   "execution_count": null,
   "metadata": {},
   "outputs": [],
   "source": [
    "train_X,test_X,train_Y,test_Y =train_test_split(X,Y,test_size=20,random_state=0)\n",
    "plt.scatter(train_X[:, 0], train_X[:, 1], c=train_Y, s=50, cmap='winter');\n",
    "plt.show()"
   ]
  },
  {
   "cell_type": "code",
   "execution_count": null,
   "metadata": {},
   "outputs": [],
   "source": [
    "import numpy as np\n",
    "import matplotlib.pyplot as plt\n",
    "from sklearn.svm import SVC\n",
    "svc=SVC(kernel='linear')\n",
    "svc.fit(train_X,train_Y)\n",
    "plt.scatter(train_X[:, 0], train_X[:, 1], c=train_Y, s=50, cmap='winter');\n",
    "ax=plt.gca()\n",
    "xlim = ax.get_xlim()\n",
    "\n",
    "ax.scatter(test_X[:, 0], test_X[:, 1], c=test_Y,  cmap='spring',marker='s');\n",
    "\n",
    "w=svc.coef_[0]\n",
    "a=-w[0]/w[1]\n",
    "xx=np.linspace(xlim[0],xlim[1])\n",
    "yy=a * xx -(svc.intercept_[0] / w[1])\n",
    "plt.plot(xx,yy)\n",
    "plt.show()"
   ]
  },
  {
   "cell_type": "code",
   "execution_count": null,
   "metadata": {},
   "outputs": [],
   "source": [
    "pred_y=svc.predict(test_X)"
   ]
  },
  {
   "cell_type": "code",
   "execution_count": null,
   "metadata": {},
   "outputs": [],
   "source": [
    "confusion_matrix(test_Y,pred_y)"
   ]
  }
 ],
 "metadata": {
  "language_info": {
   "name": "python"
  }
 },
 "nbformat": 4,
 "nbformat_minor": 2
}
