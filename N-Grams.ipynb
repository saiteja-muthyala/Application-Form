{
 "cells": [
  {
   "cell_type": "markdown",
   "metadata": {},
   "source": [
    "N-Gram Modelling"
   ]
  },
  {
   "cell_type": "code",
   "execution_count": null,
   "metadata": {
    "vscode": {
     "languageId": "plaintext"
    }
   },
   "outputs": [],
   "source": [
    "from nltk.util import ngrams\n",
    "sentence = \"Natural language processing is a field of study focused on the text\"\n",
    "words = sentence.split()\n",
    "\n",
    "#bigrams\n",
    "bigrams = ngrams(words,2)\n",
    "for bigram in bigrams:\n",
    "  print(bigram)"
   ]
  },
  {
   "cell_type": "code",
   "execution_count": null,
   "metadata": {
    "vscode": {
     "languageId": "plaintext"
    }
   },
   "outputs": [],
   "source": [
    "  #trigrams\n",
    "  trigrams = ngrams(words,3)\n",
    "  for trigram in trigrams:\n",
    "    print(trigram)"
   ]
  },
  {
   "cell_type": "code",
   "execution_count": null,
   "metadata": {
    "vscode": {
     "languageId": "plaintext"
    }
   },
   "outputs": [],
   "source": [
    "#unigrams\n",
    "unigrams = ngrams(words,1)\n",
    "for unigram in unigrams:\n",
    "  print(unigram)"
   ]
  }
 ],
 "metadata": {
  "language_info": {
   "name": "python"
  }
 },
 "nbformat": 4,
 "nbformat_minor": 2
}
