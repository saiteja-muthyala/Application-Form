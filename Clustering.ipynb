{
 "cells": [
  {
   "cell_type": "code",
   "execution_count": null,
   "metadata": {},
   "outputs": [],
   "source": [
    "#Hireachical clustering\n",
    "import numpy as np\n",
    "import matplotlib.pyplot as plt\n",
    "\n",
    "#visualizing some data points\n",
    "x = [4,5,10,4,3,11,14,6,10,12]\n",
    "y = [21,19,24,17,16,25,24,22,21,21]\n",
    "plt.scatter(x,y)\n",
    "plt.show()"
   ]
  },
  {
   "cell_type": "code",
   "execution_count": null,
   "metadata": {},
   "outputs": [],
   "source": [
    "#compute the ward linkage using euclidean distance, and visualize it using single linkage\n",
    "\n",
    "from scipy.cluster.hierarchy import dendrogram, linkage\n",
    "data = list(zip(x,y))\n",
    "link_data = linkage(data,method = 'ward',metric = 'euclidean')\n",
    "dendrogram(link_data)\n",
    "plt.show()"
   ]
  },
  {
   "cell_type": "code",
   "execution_count": null,
   "metadata": {},
   "outputs": [],
   "source": [
    "data = list(zip(x,y))\n",
    "print(data)\n",
    "#single linkage\n",
    "linkage_data = linkage(data,method = 'single')\n",
    "dendrogram(linkage_data)\n",
    "plt.show()"
   ]
  },
  {
   "cell_type": "code",
   "execution_count": null,
   "metadata": {},
   "outputs": [],
   "source": [
    "data = list(zip(x,y))\n",
    "print(data)\n",
    "#Average linkage\n",
    "linkage_data1 = linkage(data,method = 'average')\n",
    "dendrogram(linkage_data1)\n",
    "plt.show()"
   ]
  },
  {
   "cell_type": "code",
   "execution_count": null,
   "metadata": {},
   "outputs": [],
   "source": [
    "data = list(zip(x,y))\n",
    "print(data)\n",
    "#complete linkage\n",
    "linkage_data2 = linkage(data,method = 'complete')\n",
    "dendrogram(linkage_data2)\n",
    "plt.show()"
   ]
  }
 ],
 "metadata": {
  "language_info": {
   "name": "python"
  }
 },
 "nbformat": 4,
 "nbformat_minor": 2
}
