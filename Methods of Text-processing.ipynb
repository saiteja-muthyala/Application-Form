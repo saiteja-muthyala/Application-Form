{
 "cells": [
  {
   "cell_type": "markdown",
   "metadata": {},
   "source": [
    "REMOVING STOP WORDS"
   ]
  },
  {
   "cell_type": "code",
   "execution_count": null,
   "metadata": {
    "vscode": {
     "languageId": "plaintext"
    }
   },
   "outputs": [],
   "source": [
    "nltk.download('stopwords')"
   ]
  },
  {
   "cell_type": "code",
   "execution_count": null,
   "metadata": {
    "vscode": {
     "languageId": "plaintext"
    }
   },
   "outputs": [],
   "source": [
    "from nltk.corpus import stopwords\n",
    "stop_words = stopwords.words('english')\n",
    "print(stop_words[0:10])"
   ]
  },
  {
   "cell_type": "markdown",
   "metadata": {},
   "source": [
    "Stemming:process of reducing the word stems or roots"
   ]
  },
  {
   "cell_type": "code",
   "execution_count": null,
   "metadata": {
    "vscode": {
     "languageId": "plaintext"
    }
   },
   "outputs": [],
   "source": [
    "from nltk.stem import PorterStemmer\n",
    "from nltk.tokenize import word_tokenize\n",
    "ps = PorterStemmer()\n",
    "\n",
    "words = [\"program\",'programs','programmer','programming','programmers']\n",
    "for w in words:\n",
    "  print(w,\":\",ps.stem(w))"
   ]
  },
  {
   "cell_type": "markdown",
   "metadata": {},
   "source": [
    "Removing punctuation from a string"
   ]
  },
  {
   "cell_type": "code",
   "execution_count": null,
   "metadata": {
    "vscode": {
     "languageId": "plaintext"
    }
   },
   "outputs": [],
   "source": [
    "import string\n",
    "def remove_punctuation(input_string):\n",
    "  translator = str.maketrans(\"\",\"\",string.punctuation)\n",
    "\n",
    "  result = input_string.translate(translator)\n",
    "  return result\n",
    "text = \"Hello, world! This is a @ sample string with punctuation. A spaces!,()\"\n",
    "output = remove_punctuation(text)\n",
    "\n",
    "print(\"Original String:\",text)\n",
    "print(\"String without punctuation:\",output)\n"
   ]
  }
 ],
 "metadata": {
  "language_info": {
   "name": "python"
  }
 },
 "nbformat": 4,
 "nbformat_minor": 2
}
